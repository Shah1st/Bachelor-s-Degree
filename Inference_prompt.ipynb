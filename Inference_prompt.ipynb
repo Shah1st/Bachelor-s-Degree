{
  "nbformat": 4,
  "nbformat_minor": 0,
  "metadata": {
    "colab": {
      "provenance": []
    },
    "kernelspec": {
      "name": "python3",
      "display_name": "Python 3"
    },
    "language_info": {
      "name": "python"
    }
  },
  "cells": [
    {
      "cell_type": "code",
      "source": [
        "import random\n",
        "import os\n",
        "import pandas as pd\n",
        "from tqdm import tqdm"
      ],
      "metadata": {
        "id": "TmzK6-0DaOhr"
      },
      "execution_count": null,
      "outputs": []
    },
    {
      "cell_type": "code",
      "execution_count": null,
      "metadata": {
        "id": "F4XSo09lVB22"
      },
      "outputs": [],
      "source": [
        "\n",
        "def generate_inference_prompts(num_prompts=10000, malignant_percentage=50, output_dir=\"inference_prompts\"):\n",
        "    \"\"\"\n",
        "    Generate shorter inference prompts for skin cancer image generation with configurable\n",
        "    ratio of malignant to benign lesions and 'SKINCANCER:' prefix.\n",
        "\n",
        "    Args:\n",
        "        num_prompts (int): Total number of prompts to generate\n",
        "        malignant_percentage (int): Percentage of malignant lesions (0-100)\n",
        "        output_dir (str): Directory to save the prompts\n",
        "    \"\"\"\n",
        "    num_malignant = int(num_prompts * (malignant_percentage / 100))\n",
        "    num_benign = num_prompts - num_malignant\n",
        "\n",
        "    print(f\"Generating {num_malignant} malignant and {num_benign} benign prompts\")\n",
        "\n",
        "    os.makedirs(output_dir, exist_ok=True)\n",
        "\n",
        "    asymmetry_benign = [\"fully symmetrical\", \"symmetric in one axis\"]\n",
        "    asymmetry_malignant = [\"asymmetrical\", \"fully asymmetrical\"]\n",
        "\n",
        "    pigment_network_benign = [\"typical pigment network\"]\n",
        "    pigment_network_malignant = [\"atypical pigment network\", \"irregular pigment network\"]\n",
        "\n",
        "    dots_globules_benign = [\"no dots/globules\", \"typical dots/globules\"]\n",
        "    dots_globules_malignant = [\"atypical dots/globules\", \"irregular dots/globules\"]\n",
        "\n",
        "    streaks_benign = [\"no streaks\"]\n",
        "    streaks_malignant = [\"streaks present\", \"irregular streaks\"]\n",
        "\n",
        "    regression_benign = [\"no regression\"]\n",
        "    regression_malignant = [\"regression areas\"]\n",
        "\n",
        "    blueveil_benign = [\"no blue-whitish veil\"]\n",
        "    blueveil_malignant = [\"blue-whitish veil\"]\n",
        "\n",
        "    colors_benign = [\n",
        "        [\"light brown\"],\n",
        "        [\"dark brown\"],\n",
        "        [\"tan\"],\n",
        "        [\"light brown\", \"dark brown\"],\n",
        "    ]\n",
        "    colors_benign_weights = [0.4, 0.3, 0.2, 0.1]\n",
        "\n",
        "    colors_malignant = [\n",
        "        [\"dark brown\", \"black\"],\n",
        "        [\"dark brown\", \"blue gray\"],\n",
        "        [\"dark brown\", \"black\", \"red\"],\n",
        "        [\"dark brown\", \"black\", \"blue gray\"],\n",
        "        [\"black\", \"blue gray\", \"red\"]\n",
        "    ]\n",
        "    colors_malignant_weights = [0.25, 0.25, 0.2, 0.2, 0.1]\n",
        "\n",
        "    all_prompts = []\n",
        "\n",
        "    for i in tqdm(range(num_benign), desc=\"Generating benign prompts\"):\n",
        "        benign_type = random.choices(\n",
        "            [\"common nevus\", \"atypical nevus\"],\n",
        "            weights=[0.7, 0.3]\n",
        "        )[0]\n",
        "\n",
        "        asymmetry = random.choice(asymmetry_benign)\n",
        "        pigment_network = random.choice(pigment_network_benign)\n",
        "        dots_globules = random.choice(dots_globules_benign)\n",
        "        streaks = random.choice(streaks_benign)\n",
        "        regression = random.choice(regression_benign)\n",
        "        blueveil = random.choice(blueveil_benign)\n",
        "\n",
        "        colors = random.choices(colors_benign, weights=colors_benign_weights)[0]\n",
        "\n",
        "        if len(colors) == 1:\n",
        "            color_desc = f\"uniform {colors[0]}\"\n",
        "        else:\n",
        "            color_desc = f\"{' and '.join(colors)}\"\n",
        "\n",
        "        prompt = (\n",
        "            f\"SKINCANCER: BENIGN dermatoscopic image of {benign_type}, {asymmetry}, {color_desc}, \"\n",
        "            f\"{pigment_network}, {dots_globules}, {streaks}, {regression}, {blueveil}, \"\n",
        "            f\"high-resolution clinical photograph at 20x magnification\"\n",
        "        )\n",
        "\n",
        "        all_prompts.append({\n",
        "            \"id\": f\"benign_{i+1:05d}\",\n",
        "            \"type\": \"benign\",\n",
        "            \"subtype\": benign_type,\n",
        "            \"prompt\": prompt\n",
        "        })\n",
        "\n",
        "    for i in tqdm(range(num_malignant), desc=\"Generating malignant prompts\"):\n",
        "        malignant_type = random.choices(\n",
        "            [\"melanoma\", \"nodular melanoma\", \"lentigo maligna melanoma\"],\n",
        "            weights=[0.6, 0.3, 0.1]\n",
        "        )[0]\n",
        "\n",
        "        asymmetry = random.choice(asymmetry_malignant)\n",
        "        pigment_network = random.choice(pigment_network_malignant)\n",
        "        dots_globules = random.choice(dots_globules_malignant)\n",
        "        streaks = random.choice(streaks_malignant) if random.random() < 0.7 else random.choice(streaks_benign)\n",
        "        regression = random.choice(regression_malignant) if random.random() < 0.6 else random.choice(regression_benign)\n",
        "        blueveil = random.choice(blueveil_malignant) if random.random() < 0.7 else random.choice(blueveil_benign)\n",
        "\n",
        "        colors = random.choices(colors_malignant, weights=colors_malignant_weights)[0]\n",
        "\n",
        "        color_desc = f\"variegated {', '.join(colors)}\"\n",
        "\n",
        "        abcde_mention = \"ABCDE criteria\" if random.random() < 0.4 and malignant_type == \"melanoma\" else \"\"\n",
        "\n",
        "        prompt_parts = [\n",
        "            f\"SKINCANCER: MALIGNANT dermatoscopic image of {malignant_type}\",\n",
        "            abcde_mention if abcde_mention else None,\n",
        "            asymmetry,\n",
        "            color_desc,\n",
        "            pigment_network,\n",
        "            dots_globules,\n",
        "            streaks,\n",
        "            regression,\n",
        "            blueveil,\n",
        "            \"high-resolution clinical photograph at 20x magnification\"\n",
        "        ]\n",
        "\n",
        "        prompt_parts = [part for part in prompt_parts if part]\n",
        "\n",
        "        prompt = \", \".join(prompt_parts)\n",
        "\n",
        "        all_prompts.append({\n",
        "            \"id\": f\"malignant_{i+1:05d}\",\n",
        "            \"type\": \"malignant\",\n",
        "            \"subtype\": malignant_type,\n",
        "            \"prompt\": prompt\n",
        "        })\n",
        "\n",
        "    df = pd.DataFrame(all_prompts)\n",
        "\n",
        "    df = df.sample(frac=1).reset_index(drop=True)\n",
        "\n",
        "    csv_path = os.path.join(output_dir, f\"inference_prompts_{num_prompts}_{malignant_percentage}pct_malignant.csv\")\n",
        "    df.to_csv(csv_path, index=False)\n",
        "\n",
        "    for i, row in tqdm(df.iterrows(), total=len(df), desc=\"Saving individual prompt files\"):\n",
        "        prompt_file = os.path.join(output_dir, f\"{row['id']}.txt\")\n",
        "        with open(prompt_file, \"w\", encoding=\"utf-8\") as f:\n",
        "            f.write(row[\"prompt\"])\n",
        "\n",
        "    prompt_lengths = [len(p) for p in df['prompt']]\n",
        "    avg_length = sum(prompt_lengths) / len(prompt_lengths)\n",
        "    max_length = max(prompt_lengths)\n",
        "    min_length = min(prompt_lengths)\n",
        "\n",
        "    print(f\"Generated {len(df)} prompts\")\n",
        "    print(f\"Average prompt length: {avg_length:.1f} characters\")\n",
        "    print(f\"Minimum prompt length: {min_length} characters\")\n",
        "    print(f\"Maximum prompt length: {max_length} characters\")\n",
        "    print(f\"CSV file saved to: {csv_path}\")\n",
        "    print(f\"Individual prompt files saved to: {output_dir}\")\n",
        "\n",
        "    return df\n",
        "\n"
      ]
    },
    {
      "cell_type": "code",
      "source": [
        "if __name__ == \"__main__\":\n",
        "    num_prompts = 10000\n",
        "    malignant_percentage = 50\n",
        "    output_dir = \"/content/drive/MyDrive/Datasets/inference_prompts\"\n",
        "\n",
        "\n",
        "    generate_inference_prompts(\n",
        "        num_prompts=num_prompts,\n",
        "        malignant_percentage=malignant_percentage,\n",
        "        output_dir=output_dir\n",
        "    )\n"
      ],
      "metadata": {
        "colab": {
          "base_uri": "https://localhost:8080/"
        },
        "id": "YI_6oxkmaTqC",
        "outputId": "524f29ca-0a8a-4a11-e7c1-d32a063b2b94"
      },
      "execution_count": null,
      "outputs": [
        {
          "output_type": "stream",
          "name": "stdout",
          "text": [
            "Generating 5000 malignant and 5000 benign prompts\n"
          ]
        },
        {
          "output_type": "stream",
          "name": "stderr",
          "text": [
            "Generating benign prompts: 100%|██████████| 5000/5000 [00:00<00:00, 67998.17it/s]\n",
            "Generating malignant prompts: 100%|██████████| 5000/5000 [00:00<00:00, 67048.57it/s]\n",
            "Saving individual prompt files: 100%|██████████| 10000/10000 [02:04<00:00, 80.26it/s]"
          ]
        },
        {
          "output_type": "stream",
          "name": "stdout",
          "text": [
            "Generated 10000 prompts\n",
            "Average prompt length: 261.2 characters\n",
            "Minimum prompt length: 236 characters\n",
            "Maximum prompt length: 299 characters\n",
            "CSV file saved to: /content/drive/MyDrive/Datasets/inference_prompts/inference_prompts_10000_50pct_malignant.csv\n",
            "Individual prompt files saved to: /content/drive/MyDrive/Datasets/inference_prompts\n"
          ]
        },
        {
          "output_type": "stream",
          "name": "stderr",
          "text": [
            "\n"
          ]
        }
      ]
    },
    {
      "cell_type": "code",
      "source": [],
      "metadata": {
        "id": "15yAHx-Wa_Fd"
      },
      "execution_count": null,
      "outputs": []
    }
  ]
}